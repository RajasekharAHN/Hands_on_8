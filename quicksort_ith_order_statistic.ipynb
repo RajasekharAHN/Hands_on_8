{
  "nbformat": 4,
  "nbformat_minor": 0,
  "metadata": {
    "colab": {
      "provenance": []
    },
    "kernelspec": {
      "name": "python3",
      "display_name": "Python 3"
    },
    "language_info": {
      "name": "python"
    }
  },
  "cells": [
    {
      "cell_type": "code",
      "execution_count": 1,
      "metadata": {
        "colab": {
          "base_uri": "https://localhost:8080/"
        },
        "id": "yVNc6I4gnI-S",
        "outputId": "73a74834-655e-42ba-910f-382c2ff4f24b"
      },
      "outputs": [
        {
          "output_type": "stream",
          "name": "stdout",
          "text": [
            "The 2th order statistic is: 3\n"
          ]
        }
      ],
      "source": [
        "def partition(arr, low, high):\n",
        "    pivot = arr[high]\n",
        "    i = low - 1\n",
        "    for j in range(low, high):\n",
        "        if arr[j] <= pivot:\n",
        "            i += 1\n",
        "            arr[i], arr[j] = arr[j], arr[i]\n",
        "    arr[i + 1], arr[high] = arr[high], arr[i + 1]\n",
        "    return i + 1\n",
        "\n",
        "def quicksort(arr, low, high):\n",
        "    if low < high:\n",
        "        pi = partition(arr, low, high)\n",
        "        quicksort(arr, low, pi - 1)\n",
        "        quicksort(arr, pi + 1, high)\n",
        "\n",
        "def ith_order_statistic(arr, i):\n",
        "    if i < 0 or i >= len(arr):\n",
        "        return None\n",
        "    quicksort(arr, 0, len(arr) - 1)\n",
        "    return arr[i]\n",
        "\n",
        "# Example usage:\n",
        "arr = [3, 2, 1, 5, 4]\n",
        "i = 2\n",
        "ith_statistic = ith_order_statistic(arr, i)\n",
        "print(f\"The {i}th order statistic is: {ith_statistic}\")\n"
      ]
    },
    {
      "cell_type": "code",
      "source": [],
      "metadata": {
        "id": "7fCrZuW0tguk"
      },
      "execution_count": null,
      "outputs": []
    }
  ]
}